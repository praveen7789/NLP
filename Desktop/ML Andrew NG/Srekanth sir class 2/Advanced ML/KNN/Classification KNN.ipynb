{
 "cells": [
  {
   "cell_type": "code",
   "execution_count": null,
   "metadata": {},
   "outputs": [],
   "source": [
    "# k value should not be = class factor\n",
    "- k should not be  = 1\n",
    "- k > num of classes\n",
    "- k not equal to num of classes\n",
    "- k> classes\n",
    "# KNN Regration\n",
    "- k = 1 or 3 note:- it consider outliers"
   ]
  },
  {
   "cell_type": "code",
   "execution_count": 1,
   "metadata": {},
   "outputs": [],
   "source": [
    "# Commonly used libraries\n",
    "from glob import glob\n",
    "import os\n",
    "import numpy as np\n",
    "import pandas as pd\n",
    "import matplotlib.pyplot as plt #Data visualization\n",
    "import seaborn as sns # Datea visualization\n",
    "import re # text processing \n",
    "from sklearn.preprocessing import MinMaxScaler, StandardScaler # normalization\n",
    "from sklearn.preprocessing import LabelEncoder, OneHotEncoder # convert text data into numbers\n",
    "from sklearn.decomposition import PCA # Dimensional Reduction\n",
    "from sklearn.model_selection import train_test_split # cross validation \n",
    "from sklearn.model_selection import KFold # cross validation n parts\n",
    "import cv2 # image processing\n",
    "from pandas_ml import ConfusionMatrix # model evaluation metrics\n",
    "from sklearn.metrics import classification_report, confusion_matrix # model evaluation metrics\n",
    "from sklearn.metrics import auc, roc_curve # model evaluation\n",
    "# deployment\n",
    "import pickle\n",
    "from sklearn.externals import joblib\n",
    "%matplotlib inline"
   ]
  },
  {
   "cell_type": "markdown",
   "metadata": {},
   "source": [
    "### Data Understanding\n",
    "- Read Data\n",
    "- Data Visualisation\n",
    "- Descriptive Statistics\n",
    "- Data Preprocessing\n",
    "    - Data Cleaning\n",
    "    - Imputing Missing Values\n",
    "    - Normalization/Transformation\n",
    "- Feature Engineering"
   ]
  },
  {
   "cell_type": "code",
   "execution_count": 2,
   "metadata": {},
   "outputs": [
    {
     "data": {
      "text/html": [
       "<div>\n",
       "<style scoped>\n",
       "    .dataframe tbody tr th:only-of-type {\n",
       "        vertical-align: middle;\n",
       "    }\n",
       "\n",
       "    .dataframe tbody tr th {\n",
       "        vertical-align: top;\n",
       "    }\n",
       "\n",
       "    .dataframe thead th {\n",
       "        text-align: right;\n",
       "    }\n",
       "</style>\n",
       "<table border=\"1\" class=\"dataframe\">\n",
       "  <thead>\n",
       "    <tr style=\"text-align: right;\">\n",
       "      <th></th>\n",
       "      <th>5.1</th>\n",
       "      <th>3.5</th>\n",
       "      <th>1.4</th>\n",
       "      <th>0.2</th>\n",
       "      <th>Iris-setosa</th>\n",
       "    </tr>\n",
       "  </thead>\n",
       "  <tbody>\n",
       "    <tr>\n",
       "      <th>0</th>\n",
       "      <td>4.9</td>\n",
       "      <td>3.0</td>\n",
       "      <td>1.4</td>\n",
       "      <td>0.2</td>\n",
       "      <td>Iris-setosa</td>\n",
       "    </tr>\n",
       "    <tr>\n",
       "      <th>1</th>\n",
       "      <td>4.7</td>\n",
       "      <td>3.2</td>\n",
       "      <td>1.3</td>\n",
       "      <td>0.2</td>\n",
       "      <td>Iris-setosa</td>\n",
       "    </tr>\n",
       "    <tr>\n",
       "      <th>2</th>\n",
       "      <td>4.6</td>\n",
       "      <td>3.1</td>\n",
       "      <td>1.5</td>\n",
       "      <td>0.2</td>\n",
       "      <td>Iris-setosa</td>\n",
       "    </tr>\n",
       "    <tr>\n",
       "      <th>3</th>\n",
       "      <td>5.0</td>\n",
       "      <td>3.6</td>\n",
       "      <td>1.4</td>\n",
       "      <td>0.2</td>\n",
       "      <td>Iris-setosa</td>\n",
       "    </tr>\n",
       "    <tr>\n",
       "      <th>4</th>\n",
       "      <td>5.4</td>\n",
       "      <td>3.9</td>\n",
       "      <td>1.7</td>\n",
       "      <td>0.4</td>\n",
       "      <td>Iris-setosa</td>\n",
       "    </tr>\n",
       "  </tbody>\n",
       "</table>\n",
       "</div>"
      ],
      "text/plain": [
       "   5.1  3.5  1.4  0.2  Iris-setosa\n",
       "0  4.9  3.0  1.4  0.2  Iris-setosa\n",
       "1  4.7  3.2  1.3  0.2  Iris-setosa\n",
       "2  4.6  3.1  1.5  0.2  Iris-setosa\n",
       "3  5.0  3.6  1.4  0.2  Iris-setosa\n",
       "4  5.4  3.9  1.7  0.4  Iris-setosa"
      ]
     },
     "execution_count": 2,
     "metadata": {},
     "output_type": "execute_result"
    }
   ],
   "source": [
    "# Reading data\n",
    "data = pd.read_csv('./iris.data')\n",
    "data.head()"
   ]
  },
  {
   "cell_type": "code",
   "execution_count": 3,
   "metadata": {},
   "outputs": [
    {
     "data": {
      "text/plain": [
       "Iris-versicolor    50\n",
       "Iris-virginica     50\n",
       "Iris-setosa        49\n",
       "Name: Iris-setosa, dtype: int64"
      ]
     },
     "execution_count": 3,
     "metadata": {},
     "output_type": "execute_result"
    }
   ],
   "source": [
    "data['Iris-setosa'].value_counts()"
   ]
  },
  {
   "cell_type": "code",
   "execution_count": 4,
   "metadata": {},
   "outputs": [
    {
     "data": {
      "text/plain": [
       "0"
      ]
     },
     "execution_count": 4,
     "metadata": {},
     "output_type": "execute_result"
    }
   ],
   "source": [
    "# Count missing values\n",
    "data.isnull().sum().sum()"
   ]
  },
  {
   "cell_type": "code",
   "execution_count": 9,
   "metadata": {},
   "outputs": [],
   "source": [
    "# Split into independent and dependent\n",
    "# .values -> convert dataframe into arrays\n",
    "X = data.iloc[:,:-1].values # independent variables\n",
    "y = data.iloc[:,-1].values # dependent variables or target variables or labels or annotations\n",
    "le = LabelEncoder()\n",
    "y_le = le.fit_transform(y)"
   ]
  },
  {
   "cell_type": "code",
   "execution_count": 10,
   "metadata": {},
   "outputs": [
    {
     "name": "stdout",
     "output_type": "stream",
     "text": [
      "INFO: shape of X = (149, 4)\n",
      "INFO: shape of y = (149,)\n"
     ]
    }
   ],
   "source": [
    "print('INFO: shape of X =',X.shape)\n",
    "print('INFO: shape of y =',y.shape)"
   ]
  },
  {
   "cell_type": "markdown",
   "metadata": {},
   "source": [
    "### Descriptive Statistics (Data Analysis & Visualisation)"
   ]
  },
  {
   "cell_type": "code",
   "execution_count": null,
   "metadata": {},
   "outputs": [],
   "source": []
  },
  {
   "cell_type": "markdown",
   "metadata": {},
   "source": [
    "### Data Preprocessing\n",
    "- Normalization\n",
    "    - MinMax Scaling"
   ]
  },
  {
   "cell_type": "code",
   "execution_count": 11,
   "metadata": {},
   "outputs": [
    {
     "name": "stdout",
     "output_type": "stream",
     "text": [
      "INFO: Xnorm = (149, 4)\n"
     ]
    }
   ],
   "source": [
    "mmx = MinMaxScaler() # 0 -1 range\n",
    "Xnorm = mmx.fit_transform(X) # normalise all values into 0 - 1 range\n",
    "print('INFO: Xnorm =',Xnorm.shape)"
   ]
  },
  {
   "cell_type": "code",
   "execution_count": 12,
   "metadata": {},
   "outputs": [
    {
     "name": "stdout",
     "output_type": "stream",
     "text": [
      "INFO: Xnorm maximum = 1.0\n",
      "INFO: Xnorm minimum = 0.0\n"
     ]
    }
   ],
   "source": [
    "print('INFO: Xnorm maximum =',Xnorm.max())\n",
    "print('INFO: Xnorm minimum =',Xnorm.min())"
   ]
  },
  {
   "cell_type": "markdown",
   "metadata": {},
   "source": [
    "### Feature Engineering\n",
    "- Backward Elimation \n",
    "- Forward Selection\n",
    "- Dimension Reduction Technique (PCA)"
   ]
  },
  {
   "cell_type": "code",
   "execution_count": 13,
   "metadata": {},
   "outputs": [
    {
     "name": "stdout",
     "output_type": "stream",
     "text": [
      "INFO: x_pca = (149, 4)\n",
      "INFO: Number of compoenets = 4\n"
     ]
    }
   ],
   "source": [
    "pca = PCA() # initialize pca with all components\n",
    "x_pca = pca.fit_transform(Xnorm) # Transform the matrix \n",
    "print('INFO: x_pca =',x_pca.shape)\n",
    "print('INFO: Number of compoenets =',pca.n_components_)"
   ]
  },
  {
   "cell_type": "code",
   "execution_count": 14,
   "metadata": {},
   "outputs": [],
   "source": [
    "exvar = pca.explained_variance_ratio_ # explained variance for each pc (principal component)\n",
    "cumvar = np.cumsum(exvar) # cumulative variance (R^2)"
   ]
  },
  {
   "cell_type": "code",
   "execution_count": 15,
   "metadata": {},
   "outputs": [
    {
     "data": {
      "image/png": "[encoded data removed]",
      "text/plain": [
       "<Figure size 1440x360 with 2 Axes>"
      ]
     },
     "metadata": {},
     "output_type": "display_data"
    }
   ],
   "source": [
    "plt.figure(figsize=(20,5)) # 20x 5\n",
    "plt.subplot(1,2,1) # plotting explained variance\n",
    "plt.title('ELBOW METHOD')\n",
    "plt.plot(exvar,'r*--'), plt.xlabel('no. components'), plt.ylabel('% Variance')\n",
    "plt.subplot(1,2,2) # plotting R^2\n",
    "plt.plot(cumvar,'*-'), plt.xlabel('no. components'), plt.ylabel('$R^2$')\n",
    "plt.show()"
   ]
  },
  {
   "cell_type": "markdown",
   "metadata": {},
   "source": [
    "From above plot and using **Elbow** method optimal number of components is around the variance of \n",
    "80% - 95%"
   ]
  },
  {
   "cell_type": "code",
   "execution_count": 17,
   "metadata": {},
   "outputs": [
    {
     "name": "stdout",
     "output_type": "stream",
     "text": [
      "INFO: x_pca = (149, 2)\n",
      "INFO: Number of components = 2\n"
     ]
    }
   ],
   "source": [
    "pca = PCA(0.90) # initialize pca with all components\n",
    "x_pca = pca.fit_transform(Xnorm) # Transform the matrix \n",
    "print('INFO: x_pca =',x_pca.shape)\n",
    "print('INFO: Number of components =',pca.n_components_)"
   ]
  },
  {
   "cell_type": "markdown",
   "metadata": {},
   "source": [
    "### Splitting Data \n",
    "- Traning\n",
    "- Testing"
   ]
  },
  {
   "cell_type": "code",
   "execution_count": 21,
   "metadata": {},
   "outputs": [
    {
     "name": "stdout",
     "output_type": "stream",
     "text": [
      "INFO: shape of x_train = (119, 2)\n",
      "INFO: shape of x_test = (30, 2)\n",
      "INFO: shape of y_train = (119,)\n",
      "INFO: shape of y_test = (30,)\n"
     ]
    }
   ],
   "source": [
    "x_train, x_test, y_train, y_test = train_test_split(x_pca,y_le,test_size = 0.2)\n",
    "print('INFO: shape of x_train =',x_train.shape)\n",
    "print('INFO: shape of x_test =',x_test.shape)\n",
    "print('INFO: shape of y_train =',y_train.shape)\n",
    "print('INFO: shape of y_test =',y_test.shape)"
   ]
  },
  {
   "cell_type": "markdown",
   "metadata": {},
   "source": [
    "## Machine Learning Model\n",
    "- Logistics Regresion"
   ]
  },
  {
   "cell_type": "code",
   "execution_count": 35,
   "metadata": {},
   "outputs": [],
   "source": [
    "from sklearn.linear_model import LogisticRegression\n",
    "from sklearn.neighbors import KNeighborsClassifier\n",
    "model = LogisticRegression()\n",
    "model_knn = KNeighborsClassifier(n_neighbors=11)"
   ]
  },
  {
   "cell_type": "code",
   "execution_count": 36,
   "metadata": {},
   "outputs": [
    {
     "name": "stdout",
     "output_type": "stream",
     "text": [
      "INFO: model train sucessfully\n"
     ]
    },
    {
     "name": "stderr",
     "output_type": "stream",
     "text": [
      "/home/praveen/anaconda3/lib/python3.6/site-packages/sklearn/linear_model/logistic.py:433: FutureWarning: Default solver will be changed to 'lbfgs' in 0.22. Specify a solver to silence this warning.\n",
      "  FutureWarning)\n",
      "/home/praveen/anaconda3/lib/python3.6/site-packages/sklearn/linear_model/logistic.py:460: FutureWarning: Default multi_class will be changed to 'auto' in 0.22. Specify the multi_class option to silence this warning.\n",
      "  \"this warning.\", FutureWarning)\n"
     ]
    }
   ],
   "source": [
    "model.fit(x_train,y_train) # model training\n",
    "model_knn.fit(x_train,y_train)\n",
    "print('INFO: model train sucessfully')"
   ]
  },
  {
   "cell_type": "markdown",
   "metadata": {},
   "source": [
    "### Model Evalution"
   ]
  },
  {
   "cell_type": "code",
   "execution_count": 37,
   "metadata": {},
   "outputs": [],
   "source": [
    "y_pred_test = model_knn.predict(x_test)\n",
    "y_pred_train = model_knn.predict(x_train)\n"
   ]
  },
  {
   "cell_type": "code",
   "execution_count": 38,
   "metadata": {},
   "outputs": [],
   "source": [
    "cm_train = ConfusionMatrix(y_train,y_pred_train)\n",
    "cr_train = classification_report(y_train,y_pred_train)"
   ]
  },
  {
   "cell_type": "code",
   "execution_count": 39,
   "metadata": {},
   "outputs": [],
   "source": [
    "cm_test = ConfusionMatrix(y_test,y_pred_test)\n",
    "cr_test = classification_report(y_test,y_pred_test)"
   ]
  },
  {
   "cell_type": "code",
   "execution_count": 40,
   "metadata": {},
   "outputs": [
    {
     "name": "stdout",
     "output_type": "stream",
     "text": [
      "Predicted   0   1   2  __all__\n",
      "Actual                        \n",
      "0          41   0   0       41\n",
      "1           0  37   2       39\n",
      "2           0   3  36       39\n",
      "__all__    41  40  38      119\n"
     ]
    }
   ],
   "source": [
    "print(cm_train)"
   ]
  },
  {
   "cell_type": "code",
   "execution_count": 41,
   "metadata": {},
   "outputs": [
    {
     "name": "stdout",
     "output_type": "stream",
     "text": [
      "              precision    recall  f1-score   support\n",
      "\n",
      "           0       1.00      1.00      1.00        41\n",
      "           1       0.93      0.95      0.94        39\n",
      "           2       0.95      0.92      0.94        39\n",
      "\n",
      "   micro avg       0.96      0.96      0.96       119\n",
      "   macro avg       0.96      0.96      0.96       119\n",
      "weighted avg       0.96      0.96      0.96       119\n",
      "\n"
     ]
    }
   ],
   "source": [
    "print(cr_train)"
   ]
  },
  {
   "cell_type": "code",
   "execution_count": null,
   "metadata": {},
   "outputs": [],
   "source": []
  },
  {
   "cell_type": "code",
   "execution_count": null,
   "metadata": {},
   "outputs": [],
   "source": []
  }
 ],
 "metadata": {
  "kernelspec": {
   "display_name": "Python 3",
   "language": "python",
   "name": "python3"
  },
  "language_info": {
   "codemirror_mode": {
    "name": "ipython",
    "version": 3
   },
   "file_extension": ".py",
   "mimetype": "text/x-python",
   "name": "python",
   "nbconvert_exporter": "python",
   "pygments_lexer": "ipython3",
   "version": "3.6.8"
  }
 },
 "nbformat": 4,
 "nbformat_minor": 2
}
