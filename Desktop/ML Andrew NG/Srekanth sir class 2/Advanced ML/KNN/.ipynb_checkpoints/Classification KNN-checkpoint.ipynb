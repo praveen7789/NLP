{
 "cells": [
  {
   "cell_type": "code",
   "execution_count": 1,
   "metadata": {},
   "outputs": [],
   "source": [
    "# Commonly used libraries\n",
    "from glob import glob\n",
    "import os\n",
    "import numpy as np\n",
    "import pandas as pd\n",
    "import matplotlib.pyplot as plt #Data visualization\n",
    "import seaborn as sns # Datea visualization\n",
    "import re # text processing \n",
    "from sklearn.preprocessing import MinMaxScaler, StandardScaler # normalization\n",
    "from sklearn.preprocessing import LabelEncoder, OneHotEncoder # convert text data into numbers\n",
    "from sklearn.decomposition import PCA # Dimensional Reduction\n",
    "from sklearn.model_selection import train_test_split # cross validation \n",
    "from sklearn.model_selection import KFold # cross validation n parts\n",
    "import cv2 # image processing\n",
    "from pandas_ml import ConfusionMatrix # model evaluation metrics\n",
    "from sklearn.metrics import classification_report, confusion_matrix # model evaluation metrics\n",
    "from sklearn.metrics import auc, roc_curve # model evaluation\n",
    "# deployment\n",
    "import pickle\n",
    "from sklearn.externals import joblib\n",
    "%matplotlib inline"
   ]
  },
  {
   "cell_type": "markdown",
   "metadata": {},
   "source": [
    "### Data Understanding\n",
    "- Read Data\n",
    "- Data Visualisation\n",
    "- Descriptive Statistics\n",
    "- Data Preprocessing\n",
    "    - Data Cleaning\n",
    "    - Imputing Missing Values\n",
    "    - Normalization/Transformation\n",
    "- Feature Engineering"
   ]
  },
  {
   "cell_type": "code",
   "execution_count": 3,
   "metadata": {},
   "outputs": [
    {
     "data": {
      "text/html": [
       "<div>\n",
       "<style scoped>\n",
       "    .dataframe tbody tr th:only-of-type {\n",
       "        vertical-align: middle;\n",
       "    }\n",
       "\n",
       "    .dataframe tbody tr th {\n",
       "        vertical-align: top;\n",
       "    }\n",
       "\n",
       "    .dataframe thead th {\n",
       "        text-align: right;\n",
       "    }\n",
       "</style>\n",
       "<table border=\"1\" class=\"dataframe\">\n",
       "  <thead>\n",
       "    <tr style=\"text-align: right;\">\n",
       "      <th></th>\n",
       "      <th>5.1</th>\n",
       "      <th>3.5</th>\n",
       "      <th>1.4</th>\n",
       "      <th>0.2</th>\n",
       "      <th>Iris-setosa</th>\n",
       "    </tr>\n",
       "  </thead>\n",
       "  <tbody>\n",
       "    <tr>\n",
       "      <th>0</th>\n",
       "      <td>4.9</td>\n",
       "      <td>3.0</td>\n",
       "      <td>1.4</td>\n",
       "      <td>0.2</td>\n",
       "      <td>Iris-setosa</td>\n",
       "    </tr>\n",
       "    <tr>\n",
       "      <th>1</th>\n",
       "      <td>4.7</td>\n",
       "      <td>3.2</td>\n",
       "      <td>1.3</td>\n",
       "      <td>0.2</td>\n",
       "      <td>Iris-setosa</td>\n",
       "    </tr>\n",
       "    <tr>\n",
       "      <th>2</th>\n",
       "      <td>4.6</td>\n",
       "      <td>3.1</td>\n",
       "      <td>1.5</td>\n",
       "      <td>0.2</td>\n",
       "      <td>Iris-setosa</td>\n",
       "    </tr>\n",
       "    <tr>\n",
       "      <th>3</th>\n",
       "      <td>5.0</td>\n",
       "      <td>3.6</td>\n",
       "      <td>1.4</td>\n",
       "      <td>0.2</td>\n",
       "      <td>Iris-setosa</td>\n",
       "    </tr>\n",
       "    <tr>\n",
       "      <th>4</th>\n",
       "      <td>5.4</td>\n",
       "      <td>3.9</td>\n",
       "      <td>1.7</td>\n",
       "      <td>0.4</td>\n",
       "      <td>Iris-setosa</td>\n",
       "    </tr>\n",
       "  </tbody>\n",
       "</table>\n",
       "</div>"
      ],
      "text/plain": [
       "   5.1  3.5  1.4  0.2  Iris-setosa\n",
       "0  4.9  3.0  1.4  0.2  Iris-setosa\n",
       "1  4.7  3.2  1.3  0.2  Iris-setosa\n",
       "2  4.6  3.1  1.5  0.2  Iris-setosa\n",
       "3  5.0  3.6  1.4  0.2  Iris-setosa\n",
       "4  5.4  3.9  1.7  0.4  Iris-setosa"
      ]
     },
     "execution_count": 3,
     "metadata": {},
     "output_type": "execute_result"
    }
   ],
   "source": [
    "# Reading data\n",
    "data = pd.read_csv('./iris.data')\n",
    "data.head()"
   ]
  },
  {
   "cell_type": "code",
   "execution_count": 4,
   "metadata": {},
   "outputs": [
    {
     "data": {
      "text/plain": [
       "0"
      ]
     },
     "execution_count": 4,
     "metadata": {},
     "output_type": "execute_result"
    }
   ],
   "source": [
    "# Count missing values\n",
    "data.isnull().sum().sum()"
   ]
  },
  {
   "cell_type": "code",
   "execution_count": 6,
   "metadata": {},
   "outputs": [],
   "source": [
    "# Split into independent and dependent\n",
    "# .values -> convert dataframe into arrays\n",
    "X = data.iloc[:,:-1].values # independent variables\n",
    "y = data.iloc[:,-1].values # dependent variables or target variables or labels or annotations"
   ]
  },
  {
   "cell_type": "code",
   "execution_count": 69,
   "metadata": {},
   "outputs": [
    {
     "name": "stdout",
     "output_type": "stream",
     "text": [
      "INFO: shape of X = (42000, 784)\n",
      "INFO: shape of y = (42000,)\n"
     ]
    }
   ],
   "source": [
    "print('INFO: shape of X =',X.shape)\n",
    "print('INFO: shape of y =',y.shape)"
   ]
  },
  {
   "cell_type": "markdown",
   "metadata": {},
   "source": [
    "### Descriptive Statistics (Data Analysis & Visualisation)"
   ]
  },
  {
   "cell_type": "code",
   "execution_count": null,
   "metadata": {},
   "outputs": [],
   "source": []
  },
  {
   "cell_type": "markdown",
   "metadata": {},
   "source": [
    "### Data Preprocessing\n",
    "- Normalization\n",
    "    - MinMax Scaling"
   ]
  },
  {
   "cell_type": "code",
   "execution_count": 70,
   "metadata": {},
   "outputs": [
    {
     "name": "stderr",
     "output_type": "stream",
     "text": [
      "C:\\Users\\Srikanth\\Anaconda3\\lib\\site-packages\\sklearn\\utils\\validation.py:595: DataConversionWarning: Data with input dtype int64 was converted to float64 by MinMaxScaler.\n",
      "  warnings.warn(msg, DataConversionWarning)\n"
     ]
    },
    {
     "name": "stdout",
     "output_type": "stream",
     "text": [
      "INFO: Xnorm = (42000, 784)\n"
     ]
    }
   ],
   "source": [
    "mmx = MinMaxScaler() # 0 -1 range\n",
    "Xnorm = mmx.fit_transform(X) # normalise all values into 0 - 1 range\n",
    "print('INFO: Xnorm =',Xnorm.shape)"
   ]
  },
  {
   "cell_type": "code",
   "execution_count": 72,
   "metadata": {},
   "outputs": [
    {
     "name": "stdout",
     "output_type": "stream",
     "text": [
      "INFO: Xnorm maximum = 1.0\n",
      "INFO: Xnorm minimum = 0.0\n"
     ]
    }
   ],
   "source": [
    "print('INFO: Xnorm maximum =',Xnorm.max())\n",
    "print('INFO: Xnorm minimum =',Xnorm.min())"
   ]
  },
  {
   "cell_type": "markdown",
   "metadata": {},
   "source": [
    "### Feature Engineering\n",
    "- Backward Elimation \n",
    "- Forward Selection\n",
    "- Dimension Reduction Technique (PCA)"
   ]
  },
  {
   "cell_type": "code",
   "execution_count": 74,
   "metadata": {},
   "outputs": [
    {
     "name": "stdout",
     "output_type": "stream",
     "text": [
      "INFO: x_pca = (42000, 784)\n",
      "INFO: Number of compoenets = 784\n"
     ]
    }
   ],
   "source": [
    "pca = PCA() # initialize pca with all components\n",
    "x_pca = pca.fit_transform(Xnorm) # Transform the matrix \n",
    "print('INFO: x_pca =',x_pca.shape)\n",
    "print('INFO: Number of compoenets =',pca.n_components_)"
   ]
  },
  {
   "cell_type": "code",
   "execution_count": 75,
   "metadata": {},
   "outputs": [],
   "source": [
    "exvar = pca.explained_variance_ratio_ # explained variance for each pc (principal component)\n",
    "cumvar = np.cumsum(exvar) # cumulative variance (R^2)"
   ]
  },
  {
   "cell_type": "code",
   "execution_count": 81,
   "metadata": {},
   "outputs": [
    {
     "data": {
      "image/png": "[encoded data removed]",
      "text/plain": [
       "<Figure size 1440x360 with 2 Axes>"
      ]
     },
     "metadata": {
      "needs_background": "light"
     },
     "output_type": "display_data"
    }
   ],
   "source": [
    "plt.figure(figsize=(20,5)) # 20x 5\n",
    "plt.subplot(1,2,1) # plotting explained variance\n",
    "plt.title('ELBOW METHOD')\n",
    "plt.plot(exvar,'r*--'), plt.xlabel('no. components'), plt.ylabel('% Variance')\n",
    "plt.subplot(1,2,2) # plotting R^2\n",
    "plt.plot(cumvar,'*-'), plt.xlabel('no. components'), plt.ylabel('$R^2$')\n",
    "plt.show()"
   ]
  },
  {
   "cell_type": "markdown",
   "metadata": {},
   "source": [
    "From above plot and using **Elbow** method optimal number of components is around the variance of \n",
    "80% - 95%"
   ]
  },
  {
   "cell_type": "code",
   "execution_count": 83,
   "metadata": {},
   "outputs": [
    {
     "name": "stdout",
     "output_type": "stream",
     "text": [
      "INFO: x_pca = (42000, 59)\n",
      "INFO: Number of components = 59\n"
     ]
    }
   ],
   "source": [
    "pca = PCA(0.85) # initialize pca with all components\n",
    "x_pca = pca.fit_transform(Xnorm) # Transform the matrix \n",
    "print('INFO: x_pca =',x_pca.shape)\n",
    "print('INFO: Number of components =',pca.n_components_)"
   ]
  },
  {
   "cell_type": "markdown",
   "metadata": {},
   "source": [
    "### Splitting Data \n",
    "- Traning\n",
    "- Testing"
   ]
  },
  {
   "cell_type": "code",
   "execution_count": 84,
   "metadata": {},
   "outputs": [
    {
     "name": "stdout",
     "output_type": "stream",
     "text": [
      "INFO: shape of x_train = (33600, 59)\n",
      "INFO: shape of x_test = (8400, 59)\n",
      "INFO: shape of y_train = (33600,)\n",
      "INFO: shape of y_test = (8400,)\n"
     ]
    }
   ],
   "source": [
    "x_train, x_test, y_train, y_test = train_test_split(x_pca,y,test_size = 0.2)\n",
    "print('INFO: shape of x_train =',x_train.shape)\n",
    "print('INFO: shape of x_test =',x_test.shape)\n",
    "print('INFO: shape of y_train =',y_train.shape)\n",
    "print('INFO: shape of y_test =',y_test.shape)"
   ]
  },
  {
   "cell_type": "markdown",
   "metadata": {},
   "source": [
    "## Machine Learning Model\n",
    "- Logistics Regresion"
   ]
  },
  {
   "cell_type": "code",
   "execution_count": 85,
   "metadata": {},
   "outputs": [],
   "source": [
    "from sklearn.linear_model import LogisticRegression\n",
    "model = LogisticRegression()"
   ]
  },
  {
   "cell_type": "code",
   "execution_count": 86,
   "metadata": {},
   "outputs": [
    {
     "name": "stderr",
     "output_type": "stream",
     "text": [
      "C:\\Users\\Srikanth\\Anaconda3\\lib\\site-packages\\sklearn\\linear_model\\logistic.py:433: FutureWarning: Default solver will be changed to 'lbfgs' in 0.22. Specify a solver to silence this warning.\n",
      "  FutureWarning)\n",
      "C:\\Users\\Srikanth\\Anaconda3\\lib\\site-packages\\sklearn\\linear_model\\logistic.py:460: FutureWarning: Default multi_class will be changed to 'auto' in 0.22. Specify the multi_class option to silence this warning.\n",
      "  \"this warning.\", FutureWarning)\n"
     ]
    },
    {
     "name": "stdout",
     "output_type": "stream",
     "text": [
      "INFO: model train sucessfully\n"
     ]
    }
   ],
   "source": [
    "model.fit(x_train,y_train) # model training\n",
    "print('INFO: model train sucessfully')"
   ]
  },
  {
   "cell_type": "markdown",
   "metadata": {},
   "source": [
    "### Model Evalution"
   ]
  },
  {
   "cell_type": "code",
   "execution_count": 91,
   "metadata": {},
   "outputs": [],
   "source": [
    "y_pred_test = model.predict(x_test)\n",
    "y_pred_train = model.predict(x_train)"
   ]
  },
  {
   "cell_type": "code",
   "execution_count": 92,
   "metadata": {},
   "outputs": [],
   "source": [
    "cm_train = ConfusionMatrix(y_train,y_pred_train)\n",
    "cr_train = classification_report(y_train,y_pred_train)"
   ]
  },
  {
   "cell_type": "code",
   "execution_count": 88,
   "metadata": {},
   "outputs": [],
   "source": [
    "cm_test = ConfusionMatrix(y_test,y_pred)\n",
    "cr_test = classification_report(y_test,y_pred)"
   ]
  },
  {
   "cell_type": "code",
   "execution_count": 89,
   "metadata": {},
   "outputs": [
    {
     "name": "stdout",
     "output_type": "stream",
     "text": [
      "Predicted    0    1    2    3    4    5    6    7    8    9  __all__\n",
      "Actual                                                              \n",
      "0          768    0    3    3    0    5    9    1    7    1      797\n",
      "1            0  911    4    1    1    7    1    2    7    0      934\n",
      "2            5    5  763   14   12    5   13   21   24    8      870\n",
      "3            3    9   27  753    2   35   10   10   11    6      866\n",
      "4            2    7    7    0  702    1    5    1    6   40      771\n",
      "5           17    6   10   44   15  613   23    8   30   15      781\n",
      "6            6    2    8    1    7   14  792    0    5    0      835\n",
      "7            1   11   21    3   18    6    0  802    2   24      888\n",
      "8           11   22    7   29    6   32   10    3  685   13      818\n",
      "9            6   11    2   16   36   10    0   32   13  714      840\n",
      "__all__    819  984  852  864  799  728  863  880  790  821     8400\n"
     ]
    }
   ],
   "source": [
    "print(cm)"
   ]
  },
  {
   "cell_type": "code",
   "execution_count": 90,
   "metadata": {},
   "outputs": [
    {
     "name": "stdout",
     "output_type": "stream",
     "text": [
      "              precision    recall  f1-score   support\n",
      "\n",
      "           0       0.94      0.96      0.95       797\n",
      "           1       0.93      0.98      0.95       934\n",
      "           2       0.90      0.88      0.89       870\n",
      "           3       0.87      0.87      0.87       866\n",
      "           4       0.88      0.91      0.89       771\n",
      "           5       0.84      0.78      0.81       781\n",
      "           6       0.92      0.95      0.93       835\n",
      "           7       0.91      0.90      0.91       888\n",
      "           8       0.87      0.84      0.85       818\n",
      "           9       0.87      0.85      0.86       840\n",
      "\n",
      "   micro avg       0.89      0.89      0.89      8400\n",
      "   macro avg       0.89      0.89      0.89      8400\n",
      "weighted avg       0.89      0.89      0.89      8400\n",
      "\n"
     ]
    }
   ],
   "source": [
    "print(cr)"
   ]
  },
  {
   "cell_type": "code",
   "execution_count": null,
   "metadata": {},
   "outputs": [],
   "source": []
  }
 ],
 "metadata": {
  "kernelspec": {
   "display_name": "Python 3",
   "language": "python",
   "name": "python3"
  },
  "language_info": {
   "codemirror_mode": {
    "name": "ipython",
    "version": 3
   },
   "file_extension": ".py",
   "mimetype": "text/x-python",
   "name": "python",
   "nbconvert_exporter": "python",
   "pygments_lexer": "ipython3",
   "version": "3.6.8"
  }
 },
 "nbformat": 4,
 "nbformat_minor": 2
}
